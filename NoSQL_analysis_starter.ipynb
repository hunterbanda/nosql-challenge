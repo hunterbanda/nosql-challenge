{
 "cells": [
  {
   "cell_type": "markdown",
   "id": "9a57c4c6",
   "metadata": {},
   "source": [
    "# Eat Safe, Love"
   ]
  },
  {
   "cell_type": "markdown",
   "id": "064ef857",
   "metadata": {},
   "source": [
    "## Notebook Set Up"
   ]
  },
  {
   "cell_type": "code",
   "execution_count": 1,
   "id": "3ecdd008",
   "metadata": {},
   "outputs": [],
   "source": [
    "from pymongo import MongoClient\n",
    "import pandas as pd\n",
    "from pprint import pprint"
   ]
  },
  {
   "cell_type": "code",
   "execution_count": 10,
   "id": "59390c4a",
   "metadata": {},
   "outputs": [],
   "source": [
    "# Create an instance of MongoClient\n",
    "mongo_client = MongoClient('mongodb://localhost:27017/')\n"
   ]
  },
  {
   "cell_type": "code",
   "execution_count": 11,
   "id": "71e373c1",
   "metadata": {},
   "outputs": [
    {
     "name": "stdout",
     "output_type": "stream",
     "text": [
      "Database 'uk_food' found.\n"
     ]
    }
   ],
   "source": [
    "# assign the uk_food database to a variable name\n",
    "dbs = mongo_client.list_database_names()\n",
    "if \"uk_food\" in dbs:\n",
    "    print(\"Database 'uk_food' found.\")\n",
    "else:\n",
    "    print(\"Database 'uk_food' NOT found.\")"
   ]
  },
  {
   "cell_type": "code",
   "execution_count": 12,
   "id": "72e18d17",
   "metadata": {},
   "outputs": [],
   "source": [
    "# assign the uk_food database to a variable name\n",
    "db = mongo_client['uk_food']\n"
   ]
  },
  {
   "cell_type": "code",
   "execution_count": 5,
   "id": "f40941e4",
   "metadata": {},
   "outputs": [
    {
     "name": "stdout",
     "output_type": "stream",
     "text": [
      "collection 'establishments' found\n"
     ]
    }
   ],
   "source": [
    "#Review the collections in our new database\n",
    "collections = uk_food_db.list_collection_names()\n",
    "if \"establishments\" in collections:\n",
    "    print(\"collection 'establishments' found\")\n",
    "else:\n",
    "    print(\"collection 'establishments' not found\")"
   ]
  },
  {
   "cell_type": "code",
   "execution_count": 13,
   "id": "11c9f11b",
   "metadata": {},
   "outputs": [
    {
     "name": "stdout",
     "output_type": "stream",
     "text": [
      "{'AddressLine1': 'Penang Flavours',\n",
      " 'AddressLine2': '146A Plumstead Rd',\n",
      " 'AddressLine3': 'London',\n",
      " 'AddressLine4': '',\n",
      " 'BusinessName': 'Penang Flavours',\n",
      " 'BusinessType': 'Restaurant/Cafe/Canteen',\n",
      " 'BusinessTypeID': 1,\n",
      " 'Distance': 4623.972328074718,\n",
      " 'LocalAuthorityCode': '511',\n",
      " 'LocalAuthorityEmailAddress': 'health@royalgreenwich.gov.uk',\n",
      " 'LocalAuthorityName': 'Greenwich',\n",
      " 'LocalAuthorityWebSite': 'http://www.royalgreenwich.gov.uk',\n",
      " 'NewRatingPending': True,\n",
      " 'Phone': '',\n",
      " 'PostCode': 'SE18 7DY',\n",
      " 'RatingValue': None,\n",
      " 'RightToReply': '',\n",
      " 'SchemeType': 'FHRS',\n",
      " '_id': ObjectId('6781e538de7e89f35ac1f3e3'),\n",
      " 'geocode': {'latitude': 51.490142, 'longitude': 0.08384},\n",
      " 'scores': {'ConfidenceInManagement': '', 'Hygiene': '', 'Structural': ''}}\n"
     ]
    }
   ],
   "source": [
    "# assign the collection to a variable\n",
    "establishments = db['establishments']\n",
    "sample_doc = establishments.find_one()\n",
    "pprint(sample_doc)"
   ]
  },
  {
   "cell_type": "markdown",
   "id": "d5671434",
   "metadata": {},
   "source": [
    "## Part 3: Exploratory Analysis\n",
    "Unless otherwise stated, for each question: \n",
    "* Use `count_documents` to display the number of documents contained in the result.\n",
    "* Display the first document in the results using `pprint`.\n",
    "* Convert the result to a Pandas DataFrame, print the number of rows in the DataFrame, and display the first 10 rows."
   ]
  },
  {
   "cell_type": "markdown",
   "id": "314bd884",
   "metadata": {},
   "source": [
    "### 1. Which establishments have a hygiene score equal to 20?"
   ]
  },
  {
   "cell_type": "code",
   "execution_count": 16,
   "id": "755696a0",
   "metadata": {},
   "outputs": [
    {
     "name": "stdout",
     "output_type": "stream",
     "text": [
      "Number of establishments with a hygiene score of 20: 0\n",
      "Sample document with hygiene score of 20:\n"
     ]
    },
    {
     "ename": "StopIteration",
     "evalue": "",
     "output_type": "error",
     "traceback": [
      "\u001b[0;31m---------------------------------------------------------------------------\u001b[0m",
      "\u001b[0;31mStopIteration\u001b[0m                             Traceback (most recent call last)",
      "Cell \u001b[0;32mIn[16], line 10\u001b[0m\n\u001b[1;32m      8\u001b[0m \u001b[38;5;66;03m# Display the first document in the results using pprint\u001b[39;00m\n\u001b[1;32m      9\u001b[0m \u001b[38;5;28mprint\u001b[39m(\u001b[38;5;124m\"\u001b[39m\u001b[38;5;124mSample document with hygiene score of 20:\u001b[39m\u001b[38;5;124m\"\u001b[39m)\n\u001b[0;32m---> 10\u001b[0m pprint(\u001b[43mhygiene_score_20\u001b[49m\u001b[38;5;241;43m.\u001b[39;49m\u001b[43mnext\u001b[49m\u001b[43m(\u001b[49m\u001b[43m)\u001b[49m)\n",
      "File \u001b[0;32m~/Library/Python/3.9/lib/python/site-packages/pymongo/synchronous/cursor.py:1260\u001b[0m, in \u001b[0;36mCursor.next\u001b[0;34m(self)\u001b[0m\n\u001b[1;32m   1258\u001b[0m     \u001b[38;5;28;01mreturn\u001b[39;00m \u001b[38;5;28mself\u001b[39m\u001b[38;5;241m.\u001b[39m_data\u001b[38;5;241m.\u001b[39mpopleft()\n\u001b[1;32m   1259\u001b[0m \u001b[38;5;28;01melse\u001b[39;00m:\n\u001b[0;32m-> 1260\u001b[0m     \u001b[38;5;28;01mraise\u001b[39;00m \u001b[38;5;167;01mStopIteration\u001b[39;00m\n",
      "\u001b[0;31mStopIteration\u001b[0m: "
     ]
    }
   ],
   "source": [
    "# Find the establishments with a hygiene score of 20\n",
    "hygiene_score_20 = establishments.find({\"scores.Hygiene\": 20})\n",
    "\n",
    "# Use count_documents to display the number of documents in the result\n",
    "count_hygiene_20 = establishments.count_documents({\"scores.Hygiene\": 20})\n",
    "print(f\"Number of establishments with a hygiene score of 20: {count_hygiene_20}\")\n",
    "\n",
    "# Display the first document in the results using pprint\n",
    "print(\"Sample document with hygiene score of 20:\")\n",
    "pprint(hygiene_score_20.next())"
   ]
  },
  {
   "cell_type": "code",
   "execution_count": 17,
   "id": "9ced4548",
   "metadata": {},
   "outputs": [
    {
     "name": "stdout",
     "output_type": "stream",
     "text": [
      "Number of establishments in London with RatingValue >= 4: 0\n",
      "Sample document from London with RatingValue >= 4:\n"
     ]
    },
    {
     "ename": "StopIteration",
     "evalue": "",
     "output_type": "error",
     "traceback": [
      "\u001b[0;31m---------------------------------------------------------------------------\u001b[0m",
      "\u001b[0;31mStopIteration\u001b[0m                             Traceback (most recent call last)",
      "Cell \u001b[0;32mIn[17], line 20\u001b[0m\n\u001b[1;32m     18\u001b[0m \u001b[38;5;66;03m# Display the first document in the results using pprint\u001b[39;00m\n\u001b[1;32m     19\u001b[0m \u001b[38;5;28mprint\u001b[39m(\u001b[38;5;124m\"\u001b[39m\u001b[38;5;124mSample document from London with RatingValue >= 4:\u001b[39m\u001b[38;5;124m\"\u001b[39m)\n\u001b[0;32m---> 20\u001b[0m pprint(\u001b[43mlondon_high_rating\u001b[49m\u001b[38;5;241;43m.\u001b[39;49m\u001b[43mnext\u001b[49m\u001b[43m(\u001b[49m\u001b[43m)\u001b[49m)\n",
      "File \u001b[0;32m~/Library/Python/3.9/lib/python/site-packages/pymongo/synchronous/cursor.py:1260\u001b[0m, in \u001b[0;36mCursor.next\u001b[0;34m(self)\u001b[0m\n\u001b[1;32m   1258\u001b[0m     \u001b[38;5;28;01mreturn\u001b[39;00m \u001b[38;5;28mself\u001b[39m\u001b[38;5;241m.\u001b[39m_data\u001b[38;5;241m.\u001b[39mpopleft()\n\u001b[1;32m   1259\u001b[0m \u001b[38;5;28;01melse\u001b[39;00m:\n\u001b[0;32m-> 1260\u001b[0m     \u001b[38;5;28;01mraise\u001b[39;00m \u001b[38;5;167;01mStopIteration\u001b[39;00m\n",
      "\u001b[0;31mStopIteration\u001b[0m: "
     ]
    }
   ],
   "source": [
    "# Find the establishments with London as the Local Authority and has a RatingValue greater than or equal to 4.\n",
    "london_high_rating = establishments.find(\n",
    "    {\n",
    "        \"LocalAuthorityName\": {\"$regex\": \"London\", \"$options\": \"i\"},\n",
    "        \"RatingValue\": {\"$gte\": 4}\n",
    "    }\n",
    ")\n",
    "\n",
    "# Use count_documents to display the number of documents in the result\n",
    "count_london_high_rating = establishments.count_documents(\n",
    "    {\n",
    "        \"LocalAuthorityName\": {\"$regex\": \"London\", \"$options\": \"i\"},\n",
    "        \"RatingValue\": {\"$gte\": 4}\n",
    "    }\n",
    ")\n",
    "print(f\"Number of establishments in London with RatingValue >= 4: {count_london_high_rating}\")\n",
    "\n",
    "# Display the first document in the results using pprint\n",
    "print(\"Sample document from London with RatingValue >= 4:\")\n",
    "pprint(london_high_rating.next())"
   ]
  },
  {
   "cell_type": "code",
   "execution_count": null,
   "id": "c2da7648",
   "metadata": {},
   "outputs": [
    {
     "name": "stdout",
     "output_type": "stream",
     "text": [
      "number of establishments with a hygiene score of 20: 0\n",
      "\n",
      "e.g of establishments with a hygiene score of 20:\n",
      "\n"
     ]
    },
    {
     "ename": "IndexError",
     "evalue": "no such item for Cursor instance",
     "output_type": "error",
     "traceback": [
      "\u001b[0;31m---------------------------------------------------------------------------\u001b[0m",
      "\u001b[0;31mIndexError\u001b[0m                                Traceback (most recent call last)",
      "Cell \u001b[0;32mIn[10], line 14\u001b[0m\n\u001b[1;32m     12\u001b[0m \u001b[38;5;28mprint\u001b[39m(\u001b[38;5;124m\"\u001b[39m\u001b[38;5;124me.g of establishments with a hygiene score of 20:\u001b[39m\u001b[38;5;124m\"\u001b[39m)\n\u001b[1;32m     13\u001b[0m \u001b[38;5;28mprint\u001b[39m()\n\u001b[0;32m---> 14\u001b[0m pprint(\u001b[43mhygiene20_results\u001b[49m\u001b[43m[\u001b[49m\u001b[38;5;241;43m0\u001b[39;49m\u001b[43m]\u001b[49m)\n",
      "File \u001b[0;32m~/Library/Python/3.9/lib/python/site-packages/pymongo/synchronous/cursor.py:640\u001b[0m, in \u001b[0;36mCursor.__getitem__\u001b[0;34m(self, index)\u001b[0m\n\u001b[1;32m    638\u001b[0m         \u001b[38;5;28;01mfor\u001b[39;00m doc \u001b[38;5;129;01min\u001b[39;00m clone:  \u001b[38;5;66;03m# type: ignore[attr-defined]\u001b[39;00m\n\u001b[1;32m    639\u001b[0m             \u001b[38;5;28;01mreturn\u001b[39;00m doc\n\u001b[0;32m--> 640\u001b[0m         \u001b[38;5;28;01mraise\u001b[39;00m \u001b[38;5;167;01mIndexError\u001b[39;00m(\u001b[38;5;124m\"\u001b[39m\u001b[38;5;124mno such item for Cursor instance\u001b[39m\u001b[38;5;124m\"\u001b[39m)\n\u001b[1;32m    641\u001b[0m     \u001b[38;5;28;01mraise\u001b[39;00m \u001b[38;5;167;01mTypeError\u001b[39;00m(\u001b[38;5;124m\"\u001b[39m\u001b[38;5;124mindex \u001b[39m\u001b[38;5;132;01m%r\u001b[39;00m\u001b[38;5;124m cannot be applied to Cursor instances\u001b[39m\u001b[38;5;124m\"\u001b[39m \u001b[38;5;241m%\u001b[39m index)\n\u001b[1;32m    642\u001b[0m \u001b[38;5;28;01melse\u001b[39;00m:\n",
      "\u001b[0;31mIndexError\u001b[0m: no such item for Cursor instance"
     ]
    }
   ],
   "source": [
    "# Find the establishments with a hygiene score of 20\n",
    "query = {'scores.Hygiene': {'$eq': 20}}\n",
    "hygiene20_results = uk_food_establishments.find(query)\n",
    "\n",
    "\n",
    "# Use count_documents to display the number of documents in the result\n",
    "count_results = uk_food_establishments.count_documents(query)\n",
    "print(f'number of establishments with a hygiene score of 20: {count_results}')\n",
    "\n",
    "# Display the first document in the results using pprint\n",
    "print()\n",
    "print(\"e.g of establishments with a hygiene score of 20:\")\n",
    "print()\n",
    "pprint(hygiene20_results[0])"
   ]
  },
  {
   "cell_type": "code",
   "execution_count": 18,
   "id": "a6e5cece",
   "metadata": {},
   "outputs": [
    {
     "name": "stdout",
     "output_type": "stream",
     "text": [
      "Number of rows in the DataFrame: 0\n",
      "First 10 rows of establishments in London with RatingValue >= 4:\n",
      "Empty DataFrame\n",
      "Columns: []\n",
      "Index: []\n"
     ]
    }
   ],
   "source": [
    "# Convert the result to a Pandas DataFrame\n",
    "df_london_high_rating = pd.DataFrame(list(london_high_rating))\n",
    "\n",
    "# Display the number of rows in the DataFrame\n",
    "print(f\"Number of rows in the DataFrame: {len(df_london_high_rating)}\")\n",
    "\n",
    "# Display the first 10 rows of the DataFrame\n",
    "print(\"First 10 rows of establishments in London with RatingValue >= 4:\")\n",
    "print(df_london_high_rating.head(10))"
   ]
  },
  {
   "cell_type": "markdown",
   "id": "0ef4395a",
   "metadata": {},
   "source": [
    "### 2. Which establishments in London have a `RatingValue` greater than or equal to 4?"
   ]
  },
  {
   "cell_type": "code",
   "execution_count": 23,
   "id": "93c63829",
   "metadata": {},
   "outputs": [
    {
     "name": "stdout",
     "output_type": "stream",
     "text": [
      "Number of establishments in London with RatingValue >= 4: 0\n",
      "Sample document from London with RatingValue >= 4:\n"
     ]
    },
    {
     "ename": "StopIteration",
     "evalue": "",
     "output_type": "error",
     "traceback": [
      "\u001b[0;31m---------------------------------------------------------------------------\u001b[0m",
      "\u001b[0;31mStopIteration\u001b[0m                             Traceback (most recent call last)",
      "Cell \u001b[0;32mIn[23], line 20\u001b[0m\n\u001b[1;32m     18\u001b[0m \u001b[38;5;66;03m# Display the first document in the results using pprint\u001b[39;00m\n\u001b[1;32m     19\u001b[0m \u001b[38;5;28mprint\u001b[39m(\u001b[38;5;124m\"\u001b[39m\u001b[38;5;124mSample document from London with RatingValue >= 4:\u001b[39m\u001b[38;5;124m\"\u001b[39m)\n\u001b[0;32m---> 20\u001b[0m pprint(\u001b[43mlondon_high_rating\u001b[49m\u001b[38;5;241;43m.\u001b[39;49m\u001b[43mnext\u001b[49m\u001b[43m(\u001b[49m\u001b[43m)\u001b[49m)\n",
      "File \u001b[0;32m~/Library/Python/3.9/lib/python/site-packages/pymongo/synchronous/cursor.py:1260\u001b[0m, in \u001b[0;36mCursor.next\u001b[0;34m(self)\u001b[0m\n\u001b[1;32m   1258\u001b[0m     \u001b[38;5;28;01mreturn\u001b[39;00m \u001b[38;5;28mself\u001b[39m\u001b[38;5;241m.\u001b[39m_data\u001b[38;5;241m.\u001b[39mpopleft()\n\u001b[1;32m   1259\u001b[0m \u001b[38;5;28;01melse\u001b[39;00m:\n\u001b[0;32m-> 1260\u001b[0m     \u001b[38;5;28;01mraise\u001b[39;00m \u001b[38;5;167;01mStopIteration\u001b[39;00m\n",
      "\u001b[0;31mStopIteration\u001b[0m: "
     ]
    }
   ],
   "source": [
    "# Find the establishments with London as the Local Authority and has a RatingValue greater than or equal to 4.\n",
    "london_high_rating = establishments.find(\n",
    "    {\n",
    "        \"LocalAuthorityName\": {\"$regex\": \"London\", \"$options\": \"i\"},\n",
    "        \"RatingValue\": {\"$gte\": 4}\n",
    "    }\n",
    ")\n",
    "\n",
    "# Use count_documents to display the number of documents in the result\n",
    "count_london_high_rating = establishments.count_documents(\n",
    "    {\n",
    "        \"LocalAuthorityName\": {\"$regex\": \"London\", \"$options\": \"i\"},\n",
    "        \"RatingValue\": {\"$gte\": 4}\n",
    "    }\n",
    ")\n",
    "print(f\"Number of establishments in London with RatingValue >= 4: {count_london_high_rating}\")\n",
    "\n",
    "# Display the first document in the results using pprint\n",
    "print(\"Sample document from London with RatingValue >= 4:\")\n",
    "pprint(london_high_rating.next())"
   ]
  },
  {
   "cell_type": "code",
   "execution_count": 24,
   "id": "07e24ccb",
   "metadata": {},
   "outputs": [
    {
     "name": "stdout",
     "output_type": "stream",
     "text": [
      "Number of rows in the DataFrame: 0\n",
      "First 10 rows of establishments in London with RatingValue >= 4:\n",
      "Empty DataFrame\n",
      "Columns: []\n",
      "Index: []\n"
     ]
    }
   ],
   "source": [
    "# Convert the result to a Pandas DataFrame\n",
    "df_london_high_rating = pd.DataFrame(list(london_high_rating))\n",
    "\n",
    "# Display the number of rows in the DataFrame\n",
    "print(f\"Number of rows in the DataFrame: {len(df_london_high_rating)}\")\n",
    "\n",
    "# Display the first 10 rows of the DataFrame\n",
    "print(\"First 10 rows of establishments in London with RatingValue >= 4:\")\n",
    "print(df_london_high_rating.head(10))"
   ]
  },
  {
   "attachments": {},
   "cell_type": "markdown",
   "id": "4e570caf",
   "metadata": {},
   "source": [
    "### 3. What are the top 5 establishments with a `RatingValue` rating value of 5, sorted by lowest hygiene score, nearest to the new restaurant added, \"Penang Flavours\"?"
   ]
  },
  {
   "cell_type": "code",
   "execution_count": 19,
   "id": "7f599f3d",
   "metadata": {},
   "outputs": [],
   "source": [
    "# Coordinates for Penang Flavours\n",
    "penang_lat = 51.490142\n",
    "penang_long = 0.083840\n",
    "\n",
    "# Query for establishments near Penang Flavours with RatingValue = 5\n",
    "nearby_establishments = establishments.find(\n",
    "    {\n",
    "        \"RatingValue\": 5,\n",
    "        \"geocode.latitude\": {\"$gte\": penang_lat - 0.01, \"$lte\": penang_lat + 0.01},\n",
    "        \"geocode.longitude\": {\"$gte\": penang_long - 0.01, \"$lte\": penang_long + 0.01}\n",
    "    }\n",
    ").sort(\"scores.Hygiene\", 1).limit(5)  # Sort by lowest hygiene score and limit to 5\n"
   ]
  },
  {
   "cell_type": "code",
   "execution_count": 20,
   "id": "a6ad16f7",
   "metadata": {},
   "outputs": [
    {
     "name": "stdout",
     "output_type": "stream",
     "text": [
      "Number of rows in the DataFrame: 0\n",
      "Top 5 establishments near Penang Flavours with RatingValue = 5:\n",
      "Empty DataFrame\n",
      "Columns: []\n",
      "Index: []\n"
     ]
    }
   ],
   "source": [
    "# Convert the result to a Pandas DataFrame\n",
    "df_nearby_establishments = pd.DataFrame(list(nearby_establishments))\n",
    "\n",
    "# Display the number of rows\n",
    "print(f\"Number of rows in the DataFrame: {len(df_nearby_establishments)}\")\n",
    "\n",
    "# Display the first 5 rows\n",
    "print(\"Top 5 establishments near Penang Flavours with RatingValue = 5:\")\n",
    "print(df_nearby_establishments.head())\n"
   ]
  },
  {
   "cell_type": "markdown",
   "id": "67281254",
   "metadata": {},
   "source": [
    "### 4. How many establishments in each Local Authority area have a hygiene score of 0?"
   ]
  },
  {
   "cell_type": "code",
   "execution_count": 21,
   "id": "4eeb227e",
   "metadata": {},
   "outputs": [
    {
     "name": "stdout",
     "output_type": "stream",
     "text": [
      "Number of documents in the result: 0\n",
      "First 10 results:\n"
     ]
    }
   ],
   "source": [
    "# Create the aggregation pipeline\n",
    "pipeline = [\n",
    "    {\"$match\": {\"scores.Hygiene\": 0}},  # Step 1: Match establishments with hygiene score of 0\n",
    "    {\"$group\": {\"_id\": \"$LocalAuthorityName\", \"count\": {\"$sum\": 1}}},  # Step 2: Group by Local Authority\n",
    "    {\"$sort\": {\"count\": -1}}  # Step 3: Sort by count in descending order\n",
    "]\n",
    "\n",
    "# Execute the pipeline\n",
    "results = list(establishments.aggregate(pipeline))\n",
    "\n",
    "# Print the number of documents in the result\n",
    "print(f\"Number of documents in the result: {len(results)}\")\n",
    "\n",
    "# Print the first 10 results\n",
    "print(\"First 10 results:\")\n",
    "for result in results[:10]:\n",
    "    print(result)\n"
   ]
  },
  {
   "cell_type": "code",
   "execution_count": 22,
   "id": "d8aab364",
   "metadata": {},
   "outputs": [
    {
     "name": "stdout",
     "output_type": "stream",
     "text": [
      "Number of rows in the DataFrame: 0\n",
      "First 10 rows of the DataFrame:\n",
      "Empty DataFrame\n",
      "Columns: []\n",
      "Index: []\n"
     ]
    }
   ],
   "source": [
    "# Convert results to a Pandas DataFrame\n",
    "df_results = pd.DataFrame(results)\n",
    "\n",
    "# Rename columns for clarity\n",
    "df_results.rename(columns={\"_id\": \"LocalAuthorityName\", \"count\": \"EstablishmentCount\"}, inplace=True)\n",
    "\n",
    "# Display the number of rows\n",
    "print(f\"Number of rows in the DataFrame: {len(df_results)}\")\n",
    "\n",
    "# Display the first 10 rows\n",
    "print(\"First 10 rows of the DataFrame:\")\n",
    "print(df_results.head(10))\n"
   ]
  },
  {
   "cell_type": "code",
   "execution_count": null,
   "id": "582481e6",
   "metadata": {},
   "outputs": [],
   "source": []
  }
 ],
 "metadata": {
  "kernelspec": {
   "display_name": "Python 3",
   "language": "python",
   "name": "python3"
  },
  "language_info": {
   "codemirror_mode": {
    "name": "ipython",
    "version": 3
   },
   "file_extension": ".py",
   "mimetype": "text/x-python",
   "name": "python",
   "nbconvert_exporter": "python",
   "pygments_lexer": "ipython3",
   "version": "3.9.6"
  }
 },
 "nbformat": 4,
 "nbformat_minor": 5
}
